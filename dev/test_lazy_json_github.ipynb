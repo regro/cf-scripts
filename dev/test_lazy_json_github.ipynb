{
 "cells": [
  {
   "cell_type": "code",
   "execution_count": 1,
   "id": "09df5e12-e95a-4bb6-9171-c269c978744e",
   "metadata": {},
   "outputs": [],
   "source": [
    "from conda_forge_tick.lazy_json_backends import LazyJson, lazy_json_override_backends"
   ]
  },
  {
   "cell_type": "code",
   "execution_count": 9,
   "id": "9082da23-9a90-4603-865d-df5841df1a02",
   "metadata": {},
   "outputs": [],
   "source": [
    "!rm -rf node_attrs pr_info pr_json version_pr_info"
   ]
  },
  {
   "cell_type": "code",
   "execution_count": 12,
   "id": "f8ba2986-5d83-4b1c-822a-55a48d53ad93",
   "metadata": {},
   "outputs": [
    {
     "name": "stdout",
     "output_type": "stream",
     "text": [
      "28\n"
     ]
    }
   ],
   "source": [
    "with lazy_json_override_backends([\"github\"], use_file_cache=True):\n",
    "    attrs = LazyJson(\"node_attrs/ngmix.json\")\n",
    "    print(len(attrs.data))"
   ]
  },
  {
   "cell_type": "code",
   "execution_count": 8,
   "id": "9132abc9-d7ef-4703-9d52-4e0f3f68cfe3",
   "metadata": {},
   "outputs": [
    {
     "name": "stdout",
     "output_type": "stream",
     "text": [
      "True\n",
      "False\n",
      "False\n"
     ]
    }
   ],
   "source": [
    "from collections.abc import Collection, Mapping\n",
    "\n",
    "\n",
    "def _sync_node(data, seen=None):\n",
    "    seen = seen or []\n",
    "\n",
    "    if isinstance(data, LazyJson):\n",
    "        data.data\n",
    "\n",
    "    if isinstance(data, Mapping):\n",
    "        for v in data.values():\n",
    "            if v not in seen:\n",
    "                seen.append(v)\n",
    "                seen = _sync_node(v, seen=seen)\n",
    "    elif (\n",
    "        isinstance(data, Collection)\n",
    "        and not isinstance(data, str)\n",
    "        and not isinstance(data, bytes)\n",
    "    ):\n",
    "        for v in data:\n",
    "            if v not in seen:\n",
    "                seen.append(v)\n",
    "                seen = _sync_node(v, seen=seen)\n",
    "\n",
    "    return seen\n",
    "\n",
    "\n",
    "with lazy_json_override_backends([\"github\"]):\n",
    "    ngmix = LazyJson(\"node_attrs/ngmix.json\")\n",
    "    _sync_node(ngmix)\n",
    "    ngmix2 = LazyJson(\"node_attrs/ngmix.json\")\n",
    "    _sync_node(ngmix2)\n",
    "\n",
    "    print(ngmix == ngmix2)\n",
    "\n",
    "    with ngmix[\"pr_info\"] as pri:\n",
    "        pri.clear()\n",
    "    print(ngmix == ngmix2)\n",
    "\n",
    "    del ngmix.data[\"pr_info\"]\n",
    "    print(ngmix == ngmix2)"
   ]
  },
  {
   "cell_type": "code",
   "execution_count": 5,
   "id": "a64ffe74-4ca0-4a51-8e20-7fcac0b6c8b3",
   "metadata": {},
   "outputs": [
    {
     "name": "stdout",
     "output_type": "stream",
     "text": [
      "['devtools']\n"
     ]
    }
   ],
   "source": [
    "import hashlib\n",
    "\n",
    "\n",
    "def _get_names_for_job(names, job, n_jobs):\n",
    "    job_index = job - 1\n",
    "    return [\n",
    "        node_id\n",
    "        for node_id in names\n",
    "        if abs(int(hashlib.sha1(node_id.encode(\"utf-8\")).hexdigest(), 16)) % n_jobs\n",
    "        == job_index\n",
    "    ]\n",
    "\n",
    "\n",
    "print(_get_names_for_job([\"devtools\"], 3, 3))"
   ]
  },
  {
   "cell_type": "code",
   "execution_count": 10,
   "id": "728100f7-0690-45e5-b2e9-2b6aebcd6bac",
   "metadata": {},
   "outputs": [],
   "source": [
    "s = \"\\tblah\""
   ]
  },
  {
   "cell_type": "code",
   "execution_count": 12,
   "id": "3ae49ac6-a9d1-4fb3-85b8-22f1fd7cf9c1",
   "metadata": {},
   "outputs": [
    {
     "name": "stdout",
     "output_type": "stream",
     "text": [
      "\tblah\n"
     ]
    }
   ],
   "source": [
    "print(s)"
   ]
  },
  {
   "cell_type": "code",
   "execution_count": 13,
   "id": "71d3511c-f0ff-4699-a5ea-1d98a1b45fcd",
   "metadata": {},
   "outputs": [
    {
     "data": {
      "text/plain": [
       "True"
      ]
     },
     "execution_count": 13,
     "metadata": {},
     "output_type": "execute_result"
    }
   ],
   "source": [
    "s.startswith(\"\\t\")"
   ]
  },
  {
   "cell_type": "code",
   "execution_count": null,
   "id": "b33275ba-d04c-4f66-8605-26ca492c0b7b",
   "metadata": {},
   "outputs": [],
   "source": []
  }
 ],
 "metadata": {
  "kernelspec": {
   "display_name": "Python [conda env:bot-dev]",
   "language": "python",
   "name": "conda-env-bot-dev-py"
  },
  "language_info": {
   "codemirror_mode": {
    "name": "ipython",
    "version": 3
   },
   "file_extension": ".py",
   "mimetype": "text/x-python",
   "name": "python",
   "nbconvert_exporter": "python",
   "pygments_lexer": "ipython3",
   "version": "3.11.9"
  }
 },
 "nbformat": 4,
 "nbformat_minor": 5
}
